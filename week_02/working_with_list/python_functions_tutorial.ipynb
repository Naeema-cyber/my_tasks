{
 "cells": [
  {
   "cell_type": "markdown",
   "id": "14343b63",
   "metadata": {},
   "source": [
    "# 1. Introduction to Functions"
   ]
  },
  {
   "cell_type": "markdown",
   "id": "f141f9ba",
   "metadata": {},
   "source": [
    "\n",
    "A function is a reusable block of code that performs a specific task. Functions help in breaking our program into smaller and modular chunks, improving readability and reuse.\n",
    "\n",
    " Why Use Functions?\n",
    "\n",
    "- Avoid repetition\n",
    "- Enhance clarity and organization\n",
    "- Easier testing and debugging\n",
    "\n",
    " Real-world Analogy\n",
    " \n",
    "Think of a function like a coffee machine: you press a button (input), it makes coffee (process), and gives you a cup (output)."
   ]
  },
  {
   "cell_type": "markdown",
   "id": "8b31fb60",
   "metadata": {},
   "source": [
    "Step by step guide to creating a function\n",
    "\n",
    "1. Think about the goal: What do you want your function to do?\n",
    "\n",
    "2. Decide what information it needs to do that task — these go into the function arguments.\n",
    "\n",
    "3. Write the function using def.\n",
    "\n",
    "4. Use variables inside the function to do the work.\n",
    "\n",
    "5. Return or print the result.\n",
    "\n",
    "\n",
    "Things to note:::\n",
    "\n",
    "1. Put in the arguments anything that may change or needs to be customized.\n",
    "\n",
    "2. Use internal variables for fixed, known values.\n",
    "\n"
   ]
  },
  {
   "cell_type": "markdown",
   "id": "0d7826e9",
   "metadata": {},
   "source": [
    "# 2. Basic Function Structure"
   ]
  },
  {
   "cell_type": "code",
   "execution_count": null,
   "id": "488ea4ca",
   "metadata": {},
   "outputs": [],
   "source": [
    "### Defining a Function\n",
    "\n",
    "def greet():\n",
    "    print(\"Hello, world!\")\n",
    "\n",
    "\n",
    "### Calling a Function\n",
    "\n",
    "greet()\n",
    "\n",
    "### Indentation Matters\n",
    "#Python uses indentation to define blocks of code. Make sure all lines inside a function are properly indented."
   ]
  },
  {
   "cell_type": "markdown",
   "id": "204dd195",
   "metadata": {},
   "source": [
    "# 3. Function Arguments (The Complete Guide)"
   ]
  },
  {
   "cell_type": "code",
   "execution_count": null,
   "id": "8549c6c7",
   "metadata": {},
   "outputs": [],
   "source": [
    "### 1. Positional Arguments\n",
    "#These are the most common. You must pass them in the correct order.\n",
    "\n",
    "def greet(name):\n",
    "    print(f\"Hello, {name}!\")\n",
    "\n",
    "greet(\"Alice\")"
   ]
  },
  {
   "cell_type": "code",
   "execution_count": null,
   "id": "f28dc6db",
   "metadata": {},
   "outputs": [],
   "source": [
    "def surpise_me(name, age):\n",
    "    print(f\"Hi {name}, you are {age} years old.\")\n",
    "\n",
    "\n",
    "surprise_me(\"Fathia\",\"23\")"
   ]
  },
  {
   "cell_type": "code",
   "execution_count": null,
   "id": "8ac14b3b",
   "metadata": {},
   "outputs": [],
   "source": [
    "###  2. Default Arguments\n",
    "#You can provide a default value. If the caller skips it, the default is used.\n",
    "\n",
    "def greet(name=\"stranger\"):\n",
    "    print(f\"Hello, {name}!\")\n",
    "\n",
    "greet()"
   ]
  },
  {
   "cell_type": "code",
   "execution_count": null,
   "id": "cea1ac9e",
   "metadata": {},
   "outputs": [],
   "source": [
    "###  3. Keyword Arguments\n",
    "\n",
    "def greet(name, message):\n",
    "    print(f\"{message}, {name}!\")\n",
    "\n",
    "greet(name=\"Bob\", message=\"Good morning\")"
   ]
  },
  {
   "cell_type": "code",
   "execution_count": null,
   "id": "fa3be5c4",
   "metadata": {},
   "outputs": [],
   "source": [
    "###  4. Arbitrary Positional Arguments (*args)\n",
    "# Use *args to accept any number of extra positional arguments.\n",
    "\n",
    "def add_numbers(*args):\n",
    "    return sum(args)\n",
    "\n",
    "add_numbers(1, 2, 3, 4)"
   ]
  },
  {
   "cell_type": "code",
   "execution_count": null,
   "id": "c5861a0b",
   "metadata": {},
   "outputs": [],
   "source": [
    "def add_all(*numbers):\n",
    "    print(sum(numbers))\n",
    "\n",
    "add_all(1, 2, 3)        # 6\n",
    "add_all(5, 10, 15, 20)  # 50\n"
   ]
  },
  {
   "cell_type": "code",
   "execution_count": null,
   "id": "1f74281f",
   "metadata": {},
   "outputs": [],
   "source": [
    "def my_func(a, *b):\n",
    "    print(\"a:\", a)\n",
    "    print(\"b:\", b)\n",
    "\n",
    "my_func(1, 2, 3, 4)\n"
   ]
  },
  {
   "cell_type": "code",
   "execution_count": null,
   "id": "39595c26",
   "metadata": {},
   "outputs": [],
   "source": [
    "### 5. Keyword-only Arguments\n",
    "# Arguments that must be passed using keywords, not position.\n",
    "#To define them, place them after *args or *.\n",
    "\n",
    "def book_flight(destination, *, seat_class=\"Economy\"):\n",
    "    print(f\"Flying to {destination} in {seat_class} class.\")\n",
    "\n",
    "book_flight(\"Lagos\", seat_class=\"Business\")  # This will run\n",
    "book_flight(\"Abuja\")                          # This will run (default)\n",
    "\n"
   ]
  },
  {
   "cell_type": "markdown",
   "id": "dc1ef82c",
   "metadata": {},
   "source": [
    "Why the * ?\n",
    "\n",
    "The * means that everything after the * must be passed as a keyword argument (not as a positional argument). It is useful because, it forces clarity in your function calls and prevents bugs caused by wrong positional arguments."
   ]
  },
  {
   "cell_type": "code",
   "execution_count": null,
   "id": "f88d6f2f",
   "metadata": {},
   "outputs": [],
   "source": [
    "book_flight(\"Akure\", \"First\")              # This will throw Error\n",
    "# The function call fails because \"First\" is passed as a positional argument, but seat_class must be a keyword argument due to the *."
   ]
  },
  {
   "cell_type": "code",
   "execution_count": null,
   "id": "5ac42ee6",
   "metadata": {},
   "outputs": [],
   "source": [
    "\n",
    "### 6. Arbitrary Keyword Arguments (**kwargs)\n",
    "\n",
    "def print_info(**kwargs):\n",
    "    for key, value in kwargs.items():\n",
    "        print(f\"{key}: {value}\")\n",
    "\n",
    "print_info(name=\"Alice\", age=30)"
   ]
  },
  {
   "cell_type": "markdown",
   "id": "2f222320",
   "metadata": {},
   "source": [
    "### Combinning all the arguments"
   ]
  },
  {
   "cell_type": "code",
   "execution_count": null,
   "id": "54ce1689",
   "metadata": {},
   "outputs": [],
   "source": [
    "def all_argument_types(pos1, pos2, default_arg='default', *args, kw_only1, kw_only2='kw_default', **kwargs):\n",
    "    \"\"\"\n",
    "    Demonstrates all types of Python function arguments.\n",
    "\n",
    "    Parameters:\n",
    "    - pos1, pos2: Positional arguments\n",
    "    - default_arg: Default argument\n",
    "    - *args: Arbitrary positional arguments\n",
    "    - kw_only1: Keyword-only argument (required)\n",
    "    - kw_only2: Keyword-only argument (with default)\n",
    "    - **kwargs: Arbitrary keyword arguments\n",
    "    \"\"\"\n",
    "    print(\"Positional Argument 1:\", pos1)\n",
    "    print(\"Positional Argument 2:\", pos2)\n",
    "    print(\"Default Argument:\", default_arg)\n",
    "    print(\"Additional Positional Arguments (*args):\", args)\n",
    "    print(\"Keyword-only Argument 1:\", kw_only1)\n",
    "    print(\"Keyword-only Argument 2:\", kw_only2)\n",
    "    print(\"Additional Keyword Arguments (**kwargs):\", kwargs)\n",
    "\n"
   ]
  },
  {
   "cell_type": "code",
   "execution_count": null,
   "id": "1212e274",
   "metadata": {},
   "outputs": [],
   "source": [
    "## Use the created function\n",
    "all_argument_types(\n",
    "    10, 20, \n",
    "    'explicit_default', \n",
    "    30, 40, \n",
    "    kw_only1='required_kw', \n",
    "    extra1='value1', extra2='value2'\n",
    ")\n"
   ]
  },
  {
   "cell_type": "markdown",
   "id": "7543b19e",
   "metadata": {},
   "source": [
    "| Type                 | Symbol     | Used For                                    |\n",
    "| -------------------- | ---------- | ------------------------------------------- |\n",
    "| Positional           | none       | Required in order                           |\n",
    "| Default              | `=`        | Optional, with a default value              |\n",
    "| Arbitrary Positional | `*args`    | Collects extra positional arguments (tuple) |\n",
    "| Keyword-only         | after `*`  | Must be passed with keywords only           |\n",
    "| Arbitrary Keywords   | `**kwargs` | Collects extra keyword args (dictionary)    |\n"
   ]
  },
  {
   "cell_type": "markdown",
   "id": "730ef2ce",
   "metadata": {},
   "source": [
    "# Lambda Function\n",
    "\n",
    " - A lambda function is a small, anonymous function in Python.\n",
    "\n",
    "- \"Anonymous\" means it has no name (unless you assign one).\n",
    "\n",
    "- It's mainly used when you need a function for a short period of time.\n",
    "\n",
    "- It's often used when passing functions as arguments to other functions (like in sorting or mapping).\n",
    "\n",
    "Basic Syntax for Lambda\n",
    "\n",
    " ```python\n",
    "lambda arguments: expression\n",
    "\n",
    " ```\n",
    "\n",
    "- lambda is the keyword.\n",
    "\n",
    "- After that, you list the arguments.\n",
    "\n",
    "- After the colon :, you write a single expression (no multiple lines or statements)."
   ]
  },
  {
   "cell_type": "code",
   "execution_count": null,
   "id": "dca1f734",
   "metadata": {},
   "outputs": [],
   "source": [
    "# Examples\n",
    "square = lambda x: x ** 2\n",
    "print(square(5)) \n"
   ]
  },
  {
   "cell_type": "code",
   "execution_count": null,
   "id": "8d3e7c08",
   "metadata": {},
   "outputs": [],
   "source": [
    "# Alternatively\n",
    "\n",
    "def square(x):\n",
    "    return x ** 2\n"
   ]
  },
  {
   "cell_type": "markdown",
   "id": "38904501",
   "metadata": {},
   "source": [
    "| Feature         | Lambda Function                    | Regular Function         |\n",
    "| --------------- | ---------------------------------- | ------------------------ |\n",
    "| Name            | Optional (anonymous)               | Must have a name         |\n",
    "| Number of lines | One line only                      | Can be many lines        |\n",
    "| Use Case        | Simple operations, quick use       | Any complexity, reusable |\n",
    "| Return keyword  | Not needed (returns automatically) | Needed                   |\n",
    "\n",
    "\n",
    " When to Use Lambda\n",
    "\n",
    " - Sorting or filtering items\n",
    "\n",
    "- Quick, one-time-use functions\n",
    "\n",
    "- Inside functions like map(), filter(), and sorted()"
   ]
  },
  {
   "cell_type": "code",
   "execution_count": null,
   "id": "98d4bb3e",
   "metadata": {},
   "outputs": [],
   "source": [
    "add = lambda x, y: x + y\n",
    "print(add(3, 7))  # Output: 10"
   ]
  },
  {
   "cell_type": "code",
   "execution_count": null,
   "id": "99cb3aa8",
   "metadata": {},
   "outputs": [],
   "source": [
    "items = [(\"apple\", 3), (\"banana\", 2), (\"cherry\", 5)]\n",
    "sorted_items = sorted(items, key=lambda item: item[1])\n",
    "print(sorted_items)\n",
    "# Output: [('banana', 2), ('apple', 3), ('cherry', 5)]\n"
   ]
  },
  {
   "cell_type": "code",
   "execution_count": null,
   "id": "0616fd9c",
   "metadata": {},
   "outputs": [],
   "source": [
    "nums = [1, 2, 3, 4]\n",
    "squares = list(map(lambda x: x ** 2, nums))\n",
    "print(squares)  # Output: [1, 4, 9, 16]\n"
   ]
  },
  {
   "cell_type": "code",
   "execution_count": null,
   "id": "6d58f929",
   "metadata": {},
   "outputs": [],
   "source": [
    "nums = [1, 2, 3, 4, 5, 6]\n",
    "even_nums = list(filter(lambda x: x % 2 == 0, nums))\n",
    "print(even_nums)  # Output: [2, 4, 6]\n"
   ]
  },
  {
   "cell_type": "code",
   "execution_count": null,
   "id": "e7e0ce34",
   "metadata": {},
   "outputs": [],
   "source": [
    "students = [\n",
    "    {\"name\": \"Sunday\", \"score\": 88},\n",
    "    {\"name\": \"Mary\", \"score\": 95},\n",
    "    {\"name\": \"Abeeb\", \"score\": 70}\n",
    "]\n",
    "\n",
    "# Sort by score using lambda\n",
    "sorted_students = sorted(students, key=lambda student: student[\"score\"], reverse=True)\n",
    "print(sorted_students)\n"
   ]
  },
  {
   "cell_type": "markdown",
   "id": "441da73f",
   "metadata": {},
   "source": [
    "# 4. Return Values and Scope"
   ]
  },
  {
   "cell_type": "code",
   "execution_count": null,
   "id": "13a0ac2c",
   "metadata": {},
   "outputs": [],
   "source": [
    "### Returning Values\n",
    "\n",
    "def add(a, b):\n",
    "    return a + b\n",
    "\n",
    "result = add(3, 4)\n",
    "print(result)"
   ]
  },
  {
   "cell_type": "code",
   "execution_count": null,
   "id": "8c4cd9dc",
   "metadata": {},
   "outputs": [],
   "source": [
    "\n",
    "### Variable Scope\n",
    "\n",
    "#- **Local Scope**: Inside a function\n",
    "#- **Global Scope**: Outside all functions\n",
    "\n",
    "\n",
    "x = 10  # global\n",
    "\n",
    "def show():\n",
    "    x = 5  # local\n",
    "    print(x)\n",
    "\n",
    "show()\n",
    "print(x)\n"
   ]
  },
  {
   "cell_type": "markdown",
   "id": "3de5ef18",
   "metadata": {},
   "source": [
    "# 5. Advanced Function Concepts"
   ]
  },
  {
   "cell_type": "markdown",
   "id": "de8a4ce4",
   "metadata": {},
   "source": []
  },
  {
   "cell_type": "code",
   "execution_count": null,
   "id": "96c557b8",
   "metadata": {},
   "outputs": [],
   "source": [
    "### Lambda Functions\n",
    "\n",
    "square = lambda x: x * x\n",
    "print(square(5))"
   ]
  },
  {
   "cell_type": "code",
   "execution_count": null,
   "id": "dc199343",
   "metadata": {},
   "outputs": [],
   "source": [
    "### Nested Functions\n",
    "def outer():\n",
    "    def inner():\n",
    "        print(\"Inside inner\")\n",
    "    inner()\n",
    "\n",
    "outer()\n"
   ]
  },
  {
   "cell_type": "code",
   "execution_count": null,
   "id": "cbc2531c",
   "metadata": {},
   "outputs": [],
   "source": [
    "### Closures\n",
    "def make_multiplier(x):\n",
    "    def multiplier(n):\n",
    "        return x * n\n",
    "    return multiplier\n",
    "\n",
    "times3 = make_multiplier(3)\n",
    "print(times3(10))"
   ]
  },
  {
   "cell_type": "code",
   "execution_count": null,
   "id": "644d3eaa",
   "metadata": {},
   "outputs": [],
   "source": [
    "### Recursion\n",
    "\n",
    "def factorial(n):\n",
    "    if n == 0:\n",
    "        return 1\n",
    "    else:\n",
    "        return n * factorial(n - 1)\n",
    "\n",
    "print(factorial(5))"
   ]
  },
  {
   "cell_type": "markdown",
   "id": "9049459e",
   "metadata": {},
   "source": [
    "# 6. Best Practices and Common Pitfalls"
   ]
  },
  {
   "cell_type": "markdown",
   "id": "0f94ca00",
   "metadata": {},
   "source": [
    "*** Best Practices\n",
    "- Use meaningful names\n",
    "- Keep functions short and focused\n",
    "- Document with docstrings\n",
    "\n",
    " **Common Pitfalls\n",
    "- Forgetting to return a value\n",
    "- Unintended side effects from global variables\n",
    "- Overusing recursion without base cases"
   ]
  },
  {
   "cell_type": "markdown",
   "id": "abd1643e",
   "metadata": {},
   "source": [
    "# 7. Hands-On Projects"
   ]
  },
  {
   "cell_type": "code",
   "execution_count": null,
   "id": "27aaa9ea",
   "metadata": {},
   "outputs": [],
   "source": [
    "### Project 1: Simple Calculator\n",
    "Create a calculator function that performs basic operations: add, subtract, multiply, divide.\n",
    "\n",
    "### Project 2: Fibonacci Sequence Generator\n",
    "Write a function that returns the first N numbers in the Fibonacci sequence.\n",
    "\n",
    "### Project 3: Student Grade Analyzer\n",
    "Accept a list of grades, return the average, max, and min, and determine pass/fail based on average."
   ]
  }
 ],
 "metadata": {
  "kernelspec": {
   "display_name": "base",
   "language": "python",
   "name": "python3"
  },
  "language_info": {
   "codemirror_mode": {
    "name": "ipython",
    "version": 3
   },
   "file_extension": ".py",
   "mimetype": "text/x-python",
   "name": "python",
   "nbconvert_exporter": "python",
   "pygments_lexer": "ipython3",
   "version": "3.12.3"
  }
 },
 "nbformat": 4,
 "nbformat_minor": 5
}
